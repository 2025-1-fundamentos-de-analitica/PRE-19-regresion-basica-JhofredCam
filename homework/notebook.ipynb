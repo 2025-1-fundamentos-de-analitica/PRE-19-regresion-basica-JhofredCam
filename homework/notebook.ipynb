{
 "cells": [
  {
   "cell_type": "code",
   "execution_count": null,
   "id": "ee8c5ef4",
   "metadata": {},
   "outputs": [],
   "source": [
    "import pandas as pd\n",
    "\n",
    "dataset = pd.read_csv(\"../files/input/auto_mpg.csv\")\n",
    "dataset.head()"
   ]
  },
  {
   "cell_type": "code",
   "execution_count": null,
   "id": "85fb4a49",
   "metadata": {},
   "outputs": [],
   "source": [
    "#\n",
    "# Tamaño del dataset\n",
    "#\n",
    "dataset.shape\n",
    "\n",
    "#\n",
    "# Búsqueda de valores nulos\n",
    "#\n",
    "dataset.isna().sum()"
   ]
  },
  {
   "cell_type": "code",
   "execution_count": null,
   "id": "2fecbadf",
   "metadata": {},
   "outputs": [],
   "source": [
    "#\n",
    "# Se eliminan los registros nulos\n",
    "#\n",
    "dataset = dataset.dropna()\n",
    "dataset.isna().sum()"
   ]
  },
  {
   "cell_type": "code",
   "execution_count": null,
   "id": "dd8a2344",
   "metadata": {},
   "outputs": [],
   "source": [
    "#\n",
    "# Columna Origin\n",
    "# Nota:  1) USA\n",
    "#        2) Europe\n",
    "#        3) Japan\n",
    "dataset.Origin.value_counts()"
   ]
  },
  {
   "cell_type": "code",
   "execution_count": null,
   "id": "40e90b18",
   "metadata": {},
   "outputs": [],
   "source": [
    "#\n",
    "# Convierte la columna a categorias\n",
    "# Nota. Realmente no se debería hacer asi para aplicaciones\n",
    "# en productivo\n",
    "#\n",
    "dataset[\"Origin\"] = dataset[\"Origin\"].map(\n",
    "    {1: \"USA\", 2: \"Europe\", 3: \"Japan\"},\n",
    ")"
   ]
  },
  {
   "cell_type": "code",
   "execution_count": null,
   "id": "f461e09b",
   "metadata": {},
   "outputs": [],
   "source": [
    "#\n",
    "# Genera variables dummy para indicar la procedencia\n",
    "#\n",
    "dataset = pd.get_dummies(dataset, columns=[\"Origin\"], prefix=\"\", prefix_sep=\"\")\n",
    "dataset.head()"
   ]
  },
  {
   "cell_type": "code",
   "execution_count": null,
   "id": "336056fd",
   "metadata": {},
   "outputs": [],
   "source": [
    "#\n",
    "# Note que aca no se usa train_test_split\n",
    "#\n",
    "train_dataset = dataset.sample(frac=0.8, random_state=0)\n",
    "test_dataset = dataset.drop(train_dataset.index)"
   ]
  },
  {
   "cell_type": "code",
   "execution_count": null,
   "id": "25cfd794",
   "metadata": {},
   "outputs": [],
   "source": [
    "#\n",
    "# Las millas por galon (MPG) son función de las demas variables.\n",
    "#\n",
    "import seaborn as sns\n",
    "\n",
    "sns.pairplot(\n",
    "    train_dataset[[\"MPG\", \"Cylinders\", \"Displacement\", \"Weight\"]], diag_kind=\"kde\"\n",
    ")"
   ]
  },
  {
   "cell_type": "code",
   "execution_count": null,
   "id": "cf09d558",
   "metadata": {},
   "outputs": [],
   "source": [
    "#\n",
    "# Cálculo de algunas estadísticas generales\n",
    "#\n",
    "train_dataset.describe().transpose()"
   ]
  },
  {
   "cell_type": "code",
   "execution_count": null,
   "id": "bb60fb0e",
   "metadata": {},
   "outputs": [],
   "source": [
    "train_features = train_dataset.copy()\n",
    "test_features = test_dataset.copy()\n",
    "\n",
    "train_labels = train_features.pop(\"MPG\")\n",
    "test_labels = test_features.pop(\"MPG\")"
   ]
  },
  {
   "cell_type": "code",
   "execution_count": null,
   "id": "6ef1750b",
   "metadata": {},
   "outputs": [],
   "source": [
    "#\n",
    "# Efecto del StandardScaler\n",
    "#\n",
    "from sklearn.preprocessing import StandardScaler\n",
    "\n",
    "scaler = StandardScaler()\n",
    "\n",
    "pd.DataFrame(\n",
    "    data=scaler.fit_transform(train_dataset),\n",
    "    columns=train_dataset.columns,\n",
    ").describe().transpose()[[\"mean\", \"std\"]]"
   ]
  },
  {
   "cell_type": "code",
   "execution_count": null,
   "id": "93e20bea",
   "metadata": {},
   "outputs": [],
   "source": [
    "#\n",
    "# Preparación de la data\n",
    "#\n",
    "horsepower_scaler = StandardScaler()\n",
    "\n",
    "train_horsepower = train_features[[\"Horsepower\"]]\n",
    "test_horsepower = test_features[[\"Horsepower\"]]\n",
    "\n",
    "horsepower_scaler.fit(train_horsepower)\n",
    "\n",
    "standarized_train_horsepower = horsepower_scaler.transform(train_horsepower)\n",
    "standarized_test_horsepower = horsepower_scaler.transform(test_horsepower)"
   ]
  },
  {
   "cell_type": "code",
   "execution_count": null,
   "id": "143bddaf",
   "metadata": {},
   "outputs": [],
   "source": [
    "#\n",
    "# Modelo de regresión lineal\n",
    "#\n",
    "from sklearn.linear_model import LinearRegression\n",
    "\n",
    "horsepower_model = LinearRegression()\n",
    "horsepower_model.fit(standarized_train_horsepower, train_labels)"
   ]
  },
  {
   "cell_type": "code",
   "execution_count": null,
   "id": "5ea986bc",
   "metadata": {},
   "outputs": [],
   "source": [
    "#\n",
    "# Intercepto\n",
    "#\n",
    "horsepower_model.intercept_"
   ]
  },
  {
   "cell_type": "code",
   "execution_count": null,
   "id": "e6e563ca",
   "metadata": {},
   "outputs": [],
   "source": [
    "#\n",
    "# Coeficientes\n",
    "#\n",
    "horsepower_model.coef_"
   ]
  },
  {
   "cell_type": "code",
   "execution_count": null,
   "id": "506f8392",
   "metadata": {},
   "outputs": [],
   "source": [
    "#\n",
    "# Predicción. Preparación de las variables independientes\n",
    "#\n",
    "import numpy as np\n",
    "\n",
    "x = pd.DataFrame({\"Horsepower\": np.linspace(0, 250, 251)})\n",
    "x.head()"
   ]
  },
  {
   "cell_type": "code",
   "execution_count": null,
   "id": "1b47b7fd",
   "metadata": {},
   "outputs": [],
   "source": [
    "#\n",
    "# Predicción\n",
    "#\n",
    "scaled_x = horsepower_scaler.transform(x)\n",
    "y = horsepower_model.predict(scaled_x)\n",
    "y[:5]"
   ]
  },
  {
   "cell_type": "code",
   "execution_count": null,
   "id": "6cffc423",
   "metadata": {},
   "outputs": [],
   "source": [
    "import matplotlib.pyplot as plt\n",
    "\n",
    "def plot_horsepower(x, y):\n",
    "    plt.scatter(train_features[\"Horsepower\"], train_labels, label=\"Data\")\n",
    "    plt.plot(x, y, color=\"k\", label=\"Predictions\")\n",
    "    plt.xlabel(\"Horsepower\")\n",
    "    plt.ylabel(\"MPG\")\n",
    "    plt.legend()"
   ]
  },
  {
   "cell_type": "code",
   "execution_count": null,
   "id": "b53a52dd",
   "metadata": {},
   "outputs": [],
   "source": [
    "plot_horsepower(x, y)"
   ]
  },
  {
   "cell_type": "code",
   "execution_count": null,
   "id": "36b0acad",
   "metadata": {},
   "outputs": [],
   "source": [
    "#\n",
    "# Evaluación\n",
    "#\n",
    "from sklearn.metrics import mean_squared_error\n",
    "\n",
    "test_results = {}\n",
    "\n",
    "y_pred = horsepower_model.predict(standarized_test_horsepower)\n",
    "\n",
    "test_results[\"horsepower_model\"] = mean_squared_error(\n",
    "    y_true=test_labels,\n",
    "    y_pred=y_pred,\n",
    ")\n",
    "\n",
    "test_results"
   ]
  },
  {
   "cell_type": "code",
   "execution_count": null,
   "id": "4322046a",
   "metadata": {},
   "outputs": [],
   "source": [
    "#\n",
    "# Preparación de la data\n",
    "#\n",
    "features_scaler = StandardScaler()\n",
    "\n",
    "features_scaler.fit(train_features)\n",
    "\n",
    "standarized_train_features = features_scaler.transform(train_features)\n",
    "standarized_test_features = features_scaler.transform(test_features)"
   ]
  }
 ],
 "metadata": {
  "kernelspec": {
   "display_name": ".venv",
   "language": "python",
   "name": "python3"
  },
  "language_info": {
   "name": "python",
   "version": "3.13.3"
  }
 },
 "nbformat": 4,
 "nbformat_minor": 5
}
